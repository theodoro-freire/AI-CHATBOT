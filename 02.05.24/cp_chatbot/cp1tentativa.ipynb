{
 "cells": [
  {
   "cell_type": "code",
   "execution_count": null,
   "metadata": {},
   "outputs": [],
   "source": [
    "!pip install -r requirements.txt"
   ]
  },
  {
   "cell_type": "code",
   "execution_count": 2,
   "metadata": {},
   "outputs": [],
   "source": [
    "import pandas as pd\n",
    "from sklearn.model_selection import train_test_split\n",
    "from sklearn.linear_model import LogisticRegression\n",
    "from sklearn.metrics import accuracy_score\n",
    "import matplotlib.pyplot as plt\n",
    "import seaborn as sns"
   ]
  },
  {
   "cell_type": "code",
   "execution_count": 3,
   "metadata": {},
   "outputs": [
    {
     "name": "stdout",
     "output_type": "stream",
     "text": [
      "   comestivel  diâmetro do chapéu  forma do chapéu  fixação das lamelas  \\\n",
      "0         1.0              2005.0              2.0                  6.0   \n",
      "1         1.0              1781.0              2.0                  6.0   \n",
      "2         1.0              1453.0              2.0                  3.0   \n",
      "3         1.0              1530.0              6.0                  4.0   \n",
      "4         1.0              1536.0              6.0                  5.0   \n",
      "\n",
      "   cor das lamelas  coluna completamente inutil (me remova)  altura do caule  \\\n",
      "0             10.0                                11.730555         3.807467   \n",
      "1             10.0                                11.449986         3.807467   \n",
      "2             10.0                                10.520240         3.612496   \n",
      "3             10.0                                11.059484         3.787572   \n",
      "4             10.0                                10.972306         3.711971   \n",
      "\n",
      "   largura do caule  cor do caule  \\\n",
      "0            1545.0          11.0   \n",
      "1            1557.0          11.0   \n",
      "2            1566.0          11.0   \n",
      "3            1566.0           NaN   \n",
      "4            1464.0          11.0   \n",
      "\n",
      "   coluna de origem duvidosa (use por sua conta em risco)   estação  \n",
      "0                                                NaN       1.804273  \n",
      "1                                                NaN       1.804273  \n",
      "2                                                NaN       1.804273  \n",
      "3                                                NaN       1.804273  \n",
      "4                                                NaN       0.943195  \n"
     ]
    }
   ],
   "source": [
    "df = pd.read_csv('cogumelos_MODIFICADO.csv')\n",
    "print(df.head())"
   ]
  },
  {
   "cell_type": "code",
   "execution_count": 20,
   "metadata": {},
   "outputs": [],
   "source": [
    "X = df.drop(['comestivel'], axis=1)\n",
    "y = df['comestivel']\n",
    "X_train, X_test, y_train, y_test = train_test_split(X, y, test_size=0.2, random_state=42)"
   ]
  },
  {
   "cell_type": "code",
   "execution_count": null,
   "metadata": {},
   "outputs": [],
   "source": [
    "X_train = X_train.drop(['coluna completamente inutil (me remova)'], axis=1)\n",
    "X_test = X_test.drop(['coluna completamente inutil (me remova)'], axis=1)"
   ]
  },
  {
   "cell_type": "code",
   "execution_count": 19,
   "metadata": {},
   "outputs": [],
   "source": [
    "df.drop(columns=[\"coluna de origem duvidosa (use por sua conta em risco)\"], inplace=True)"
   ]
  },
  {
   "cell_type": "code",
   "execution_count": 11,
   "metadata": {},
   "outputs": [],
   "source": [
    "df.dropna(inplace=True)"
   ]
  },
  {
   "cell_type": "code",
   "execution_count": 21,
   "metadata": {},
   "outputs": [],
   "source": [
    "logreg = LogisticRegression(random_state=42)"
   ]
  },
  {
   "cell_type": "code",
   "execution_count": 22,
   "metadata": {},
   "outputs": [
    {
     "name": "stderr",
     "output_type": "stream",
     "text": [
      "c:\\Users\\dalai\\AppData\\Local\\Programs\\Python\\Python311\\Lib\\site-packages\\sklearn\\linear_model\\_logistic.py:469: ConvergenceWarning: lbfgs failed to converge (status=1):\n",
      "STOP: TOTAL NO. of ITERATIONS REACHED LIMIT.\n",
      "\n",
      "Increase the number of iterations (max_iter) or scale the data as shown in:\n",
      "    https://scikit-learn.org/stable/modules/preprocessing.html\n",
      "Please also refer to the documentation for alternative solver options:\n",
      "    https://scikit-learn.org/stable/modules/linear_model.html#logistic-regression\n",
      "  n_iter_i = _check_optimize_result(\n"
     ]
    }
   ],
   "source": [
    "logreg.fit(X_train, y_train)\n",
    "y_pred = logreg.predict(X_test)"
   ]
  },
  {
   "cell_type": "code",
   "execution_count": 23,
   "metadata": {},
   "outputs": [
    {
     "name": "stdout",
     "output_type": "stream",
     "text": [
      "Acurácia do modelo: 63.07%\n"
     ]
    }
   ],
   "source": [
    "accuracy = accuracy_score(y_test, y_pred)\n",
    "print(f'Acurácia do modelo: {accuracy * 100:.2f}%')"
   ]
  }
 ],
 "metadata": {
  "kernelspec": {
   "display_name": "Python 3",
   "language": "python",
   "name": "python3"
  },
  "language_info": {
   "codemirror_mode": {
    "name": "ipython",
    "version": 3
   },
   "file_extension": ".py",
   "mimetype": "text/x-python",
   "name": "python",
   "nbconvert_exporter": "python",
   "pygments_lexer": "ipython3",
   "version": "3.11.4"
  }
 },
 "nbformat": 4,
 "nbformat_minor": 2
}
